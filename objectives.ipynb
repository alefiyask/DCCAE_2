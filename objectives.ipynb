{
 "cells": [
  {
   "cell_type": "markdown",
   "metadata": {},
   "source": [
    "<h3><u>Objectives definition for CCA<br>"
   ]
  },
  {
   "cell_type": "code",
   "execution_count": null,
   "metadata": {},
   "outputs": [],
   "source": [
    "import torch"
   ]
  },
  {
   "cell_type": "markdown",
   "metadata": {},
   "source": [
    "<br>Following functions have been defined:<br>\n",
    "\n",
    "<b>attach_dim():</b>To alter the dimensions of the nn<br>\n",
    "<b>compute_matrix_power()</b>: To compute the power of the matrix for understanding the loss and optimization required for better understanding of correlation."
   ]
  },
  {
   "cell_type": "code",
   "execution_count": null,
   "metadata": {},
   "outputs": [],
   "source": [
    "def attach_dim(v, n_dim_to_prepend=0, n_dim_to_append=0):\n",
    "    return v.reshape(\n",
    "        torch.Size([1] * n_dim_to_prepend)\n",
    "        + v.shape\n",
    "        + torch.Size([1] * n_dim_to_append))\n",
    "\n",
    "\n",
    "def compute_matrix_power(M, p, eps):\n",
    "    [D, V] = torch.symeig(M, eigenvectors=True)\n",
    "    # Added to increase stability\n",
    "    posInd1 = torch.gt(D, eps).nonzero()[:, 0]\n",
    "    D = D[posInd1]\n",
    "    V = V[:, posInd1]\n",
    "    M_p = torch.matmul(\n",
    "        torch.matmul(V, torch.diag(torch.pow(D, p))), V.t())\n",
    "    return M_p\n",
    "\n"
   ]
  },
  {
   "cell_type": "markdown",
   "metadata": {},
   "source": [
    "<br>The CCA class defines the attributes and functions of a CCA object\n",
    "\n"
   ]
  },
  {
   "cell_type": "code",
   "execution_count": null,
   "metadata": {},
   "outputs": [],
   "source": [
    "class CCA:\n",
    "    \n",
    "    \"\"\"\n",
    "    Differentiable CCA Loss.\n",
    "    Loss() method takes the outputs of each view's network\n",
    "    \n",
    "    \"\"\"\n",
    "\n",
    "    def __init__(self, outdim_size: int, r: float = 0, eps: float = 0):\n",
    "        \n",
    "        \"\"\"\n",
    "        :param outdim_size: the number of latent dimensions\n",
    "        :param r: regularisation as in regularized CCA. \n",
    "        :param eps: an epsilon parameter used in some operations\n",
    "        \n",
    "        \"\"\"\n",
    "        self.outdim_size = outdim_size\n",
    "        self.r = r\n",
    "        self.eps = eps\n",
    "\n",
    "    def loss(self, H1, H2):\n",
    "        H1, H2 = H1.t(), H2.t()\n",
    "\n",
    "        o1 = H1.size(0)\n",
    "        o2 = H2.size(0)\n",
    "\n",
    "        m = H1.size(1)\n",
    "\n",
    "        H1bar = H1 - H1.mean(dim=1).unsqueeze(dim=1)\n",
    "        H2bar = H2 - H2.mean(dim=1).unsqueeze(dim=1)\n",
    "\n",
    "        SigmaHat12 = (1.0 / (m - 1)) * torch.matmul(H1bar, H2bar.t())\n",
    "        SigmaHat11 = (1.0 / (m - 1)) * torch.matmul(H1bar,\n",
    "                                                    H1bar.t()) + self.r * torch.eye(o1, dtype=torch.double,\n",
    "                                                                                    device=H1.device)\n",
    "        SigmaHat22 = (1.0 / (m - 1)) * torch.matmul(H2bar,\n",
    "                                                    H2bar.t()) + self.r * torch.eye(o2, dtype=torch.double,\n",
    "                                                                                    device=H2.device)\n",
    "\n",
    "        SigmaHat11RootInv = compute_matrix_power(SigmaHat11, -0.5, self.eps)\n",
    "        SigmaHat22RootInv = compute_matrix_power(SigmaHat22, -0.5, self.eps)\n",
    "\n",
    "        Tval = torch.matmul(torch.matmul(SigmaHat11RootInv,\n",
    "                                         SigmaHat12), SigmaHat22RootInv)\n",
    "\n",
    "        # just the top self.outdim_size singular values are used\n",
    "        trace_TT = torch.matmul(Tval.t(), Tval)\n",
    "        U, V = torch.symeig(trace_TT, eigenvectors=True)\n",
    "        U_inds = torch.gt(U, self.eps).nonzero()[:, 0]\n",
    "        U = U[U_inds]\n",
    "        corr = torch.sum(torch.sqrt(U))\n",
    "        return -corr\n"
   ]
  }
 ],
 "metadata": {
  "kernelspec": {
   "display_name": "Python 3",
   "language": "python",
   "name": "python3"
  },
  "language_info": {
   "codemirror_mode": {
    "name": "ipython",
    "version": 3
   },
   "file_extension": ".py",
   "mimetype": "text/x-python",
   "name": "python",
   "nbconvert_exporter": "python",
   "pygments_lexer": "ipython3",
   "version": "3.7.4"
  }
 },
 "nbformat": 4,
 "nbformat_minor": 2
}
