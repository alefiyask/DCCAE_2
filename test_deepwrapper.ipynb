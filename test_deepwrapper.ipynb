{
 "cells": [
  {
   "cell_type": "markdown",
   "metadata": {},
   "source": [
    "<h3><u>Wrapper class for Testing DCCA and DCCAE<br></h3>"
   ]
  },
  {
   "cell_type": "markdown",
   "metadata": {},
   "source": [
    "<b>Imports:</b>\n",
    "\n",
    "<b>unittest</b>: checks for a specific response to a particular set of inputs. unittest provides a base class, TestCase, also to create new test cases"
   ]
  },
  {
   "cell_type": "code",
   "execution_count": null,
   "metadata": {},
   "outputs": [],
   "source": [
    "import numpy as np\n",
    "from unittest import TestCase\n",
    "import DCCAE_repo.deepwrapper\n",
    "import DCCAE_repo.configuration"
   ]
  },
  {
   "cell_type": "markdown",
   "metadata": {},
   "source": [
    "<br><b>TestWrapper class is a  wrapper class for testing the DCCA and DCCAE models, following methods are defined:<br></b>\n",
    "\n",
    "<b>setUp</b>: To setup and configure in accordance with the Configuration file and define the X,Y,Z variables.<br>\n",
    "<b>test_DCCA_methods</b>: Applying fit function to test for overfitting and underfitting on models defined in config and dcca.<br>\n",
    "<b>test_DCCAE_methods</b>:Applying fit function to test for overfitting and underfitting on models defined in config and dccae.<br>"
   ]
  },
  {
   "cell_type": "code",
   "execution_count": null,
   "metadata": {},
   "outputs": [],
   "source": [
    "class TestDeepWrapper(TestCase):\n",
    "\n",
    "    def setUp(self):\n",
    "        self.X = np.random.rand(30, 10)\n",
    "        self.Y = np.random.rand(30, 10)\n",
    "        self.Z = np.random.rand(30, 10)\n",
    "        self.cfg = DCCAE_repo.configuration.Config()\n",
    "\n",
    "    def test_DCCA_methods(self):\n",
    "        self.cfg = DCCAE_repo.configuration.Config()\n",
    "        dcca = DCCAE_repo.deepwrapper.DeepWrapper(self.cfg)\n",
    "        dcca.fit(self.X, self.Y)\n",
    "        self.cfg.loss_type = DCCAE_repo.objectives.GCCA\n",
    "        dgcca = DCCAE_repo.deepwrapper.DeepWrapper(self.cfg)\n",
    "        dgcca.fit(self.X, self.Y)\n",
    "        self.cfg.loss_type = DCCAE_repo.objectives.MCCA\n",
    "        dmcca = DCCAE_repo.deepwrapper.DeepWrapper(self.cfg)\n",
    "        dmcca.fit(self.X, self.Y)\n",
    "        self.cfg.als = True\n",
    "        dcca_als = DCCAE_repo.deepwrapper.DeepWrapper(self.cfg)\n",
    "        dcca_als.fit(self.X, self.Y)\n",
    "\n",
    "    def test_DCCAE_methods(self):\n",
    "        self.cfg = DCCAE_repo.configuration.Config()\n",
    "        self.cfg.method = DCCAE_repo.dccae.DCCAE\n",
    "        dccae = DCCAE_repo.deepwrapper.DeepWrapper(self.cfg)\n",
    "        dccae.fit(self.X, self.Y)\n"
   ]
  }
 ],
 "metadata": {
  "kernelspec": {
   "display_name": "Python 3",
   "language": "python",
   "name": "python3"
  },
  "language_info": {
   "codemirror_mode": {
    "name": "ipython",
    "version": 3
   },
   "file_extension": ".py",
   "mimetype": "text/x-python",
   "name": "python",
   "nbconvert_exporter": "python",
   "pygments_lexer": "ipython3",
   "version": "3.7.4"
  }
 },
 "nbformat": 4,
 "nbformat_minor": 2
}
